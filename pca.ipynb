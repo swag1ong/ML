{
 "cells": [
  {
   "cell_type": "markdown",
   "metadata": {
    "collapsed": true,
    "pycharm": {
     "name": "#%% md\n"
    }
   },
   "source": [
    "# PCA\n",
    "\n",
    "*Credit to linear algebra and its application*\n",
    "\n",
    "## Problem formulation\n",
    "\n",
    "Let $X = [x_1, x_2, x_3, ... , x_N]$ be a pxN matrix where samples are the columns of the matrix, each sample contains p\n",
    "features. Let $m = \\frac{1}{N} (x_1 + x_2 + ... + x_N)$ be the sample mean and we center each $x_i$ by $\\hat x_i = x_i - m$\n",
    "\n",
    "Let B be the new pxN matrix consists of centered samples $\\hat x_i$: $B = [\\hat x_1, ..., \\hat x_N]$, then B has zero\n",
    "sample mean.\n",
    "\n",
    "Then $S = \\text{sample covariance matrix} = \\frac{1}{N - 1} (X - M)(X - M)^T = \\frac{1}{N -1} BB^T$ where $M = [m, m, ...]$\n",
    "is a pxN matrix.\n",
    "\n",
    "Notice that, the variance are on the diagonal of S, that is, the total variance of the data is the sum of the variance\n",
    "on the diagonal of S:\n",
    "\n",
    "$\\text{Total variance} = tr(S)$\n",
    "\n",
    "## Goal\n",
    "\n",
    "The goal of PCA is to find an orthogonal pxp matrix $P = [u_1, ...., u_p]$ that determines a projection of X to a lower\n",
    "dimensional space, that is\n",
    "\n",
    "$\\hat x_k = \\begin{pmatrix}\n",
    "\\hat x_k^1\\\\\n",
    ". \\\\\n",
    ".\\\\\n",
    "\\hat x_k^p\n",
    "\\end{pmatrix} = P y_k = [u_1, ...., u_p]\n",
    "\\begin{pmatrix}\n",
    "y_k^1\\\\\n",
    ". \\\\\n",
    ".\\\\\n",
    "y_k^p\n",
    "\\end{pmatrix}$\n",
    "\n",
    "where $\\hat x_k^i$ indicates the ith feature of $\\hat x_k$, and with the property that the new elements $y_k^1, ..., y_k^p$\n",
    "are uncorrelated and are arranged in decreasing variance order.\n",
    "\n",
    "$\\implies y_k = P^{-1}\\hat x_k = P^T \\hat x_k$\n",
    "$\\implies Y Y^T = P^T B B^T P = P^T S P \\implies \\text{The covariance matrix of Y is } P^T S P$\n",
    "\n",
    "Where $Y = [y_1, y_2, ..., y_N]$\n",
    "\n",
    "Since $S$ is symmetric, if $P$ is the orthogonal matrix of the eigen-decomposition of $S = PDP^T$\n",
    "\n",
    "$\\implies Y Y^T = P^TPDP^TP = D$\n",
    "\n",
    "Where $D$ is a diagonal matrix with eigenvalues of $S$ on the diagonal\n",
    "\n",
    "## Principle Component\n",
    "\n",
    "The orthogonal matrix $P$ contains the unit eigenvectors $u_1, ..., u_p$ of the covariance matrix $S$ as columns, $u_1,\n",
    "u_2, ..., u_p$ are called principle components.\n",
    "\n",
    "The first PC is the eigenvector corresponding to the largest eigenvalue of $S$ and so on\n",
    "\n",
    "The first PC $u_1$ determine the new variable $y_i$ in the following way, $u_1$ is the first row of $P^T$, let $c_1, c_2\n",
    "..., c_p$ be the elements of $u_1$, then\n",
    "\n",
    "$y_k = P^T \\hat x_k$ shows that $y_k^1 = c_1 x_k^1 + c_2 x_k^2 + ... + c_p x_k^p$\n",
    "\n",
    "That is, $y_k^i$ is just the dot product of $u_i$ and $x_k$\n",
    "\n",
    "**If you have a Nxp matrix X, with samples as rows, then the ith feature $y^i = Xu_i$**\n",
    "\n",
    "So, the stretching effect(Variance) is largest at $u_1$ with magnitude $\\lambda_1$.\n",
    "\n",
    "## Variance\n",
    "\n",
    "Since $tr(YY^T) = tr(P^TSP) = tr(P^TPS) = tr(S)$, the total variance preserves after the projection from X to Y\n",
    "\n",
    "Thus, the variance of $\\lambda_i$ and $\\frac{\\lambda_i}{tr(S)}$ measures the total variance that is captured by $u_i$\n",
    "\n",
    "## SVD\n",
    "\n",
    "### Singular values\n",
    "\n",
    "The singular values of a Nxm matrix $A$ are the square roots of the eigenvalues of $A^TA$, denoted by $\\sigma_1, \\sigma_2, ..., \\sigma_m$\n",
    "in descending order. That is, $\\sigma_i = \\sqrt{\\lambda_i}$ where $\\lambda_i$ is the ith eigenvalue of $A^TA$\n",
    "\n",
    "Since $\\|A v_i\\|^2 = v_i^TA^TAv_i = v_i^T\\lambda_i v_i = \\lambda_i$ where $v_i$ is the ith eigenvector of $A^TA$, we can see that\n",
    " $\\sigma_i$ is the length of $Av_i$\n",
    "\n",
    "Since all eigenvalues of $A^TA$ are non-negative, by the result above, the singular values of matrix $A$ are $\\|A v_i\\|$, which we\n",
    "can see that this is the same as the transformed feature i by PCA, $y^i = Av_i$.\n",
    "\n",
    "### Singular value decomposition\n",
    "\n",
    "Let A be a Nxm matrix with rank r. Then there exists an Nxm matrix $\\Sigma$ for which the diagonal entries in D are the first r\n",
    "singular values of A, $\\sigma_1 \\geq, ...., \\geq \\sigma_r > 0$, and there exists an NxN orthogonal matrix $U$ and mxm orthogonal matrix\n",
    "$V$ such that,\n",
    "\n",
    "$A = U\\Sigma V^T$\n",
    "\n",
    "Where $U \\text{ and } V$ are not uniquely determined by A\n",
    "\n",
    "1. The columns of $U$ are called left singular values of $A$\n",
    "2. The columns of $V$ are called right singular values of $A$\n",
    "\n",
    "\n",
    "The Nxm \"diagonal\" matrix $\\Sigma$ of the form:\n",
    "\n",
    "1. D on the upper left corner of $\\sigma$\n",
    "2. The remaining of N-r rows are 0\n",
    "3. The remaining of m-r columns are 0\n",
    "\n",
    "where D is a rxr diagonal matrix for some r not exceeding the smaller of m and n, if r=m or r=n or r=m=n, the remaining 0\n",
    "columns or rows or both will disappear\n",
    "\n",
    "### Construct $U, \\Sigma, V$\n",
    "\n",
    "Since $A^TA = V\\Sigma U^TU\\Sigma V^T = V \\Sigma V^T$, so let $V$ be the unit eigenvectors of $A^TA$ stack as columns and\n",
    "$\\Sigma$ be singular values of A on the diagonal in decreasing order, also let the columns of $U$ be $\\frac{1}{\\sigma_i}Av_i$ we\n",
    "also obtain a orthogonal matrix. (i.e $\\{Av_1, ..., Av_r\\}$ are orthogonal basis for the column space of A) However, if rank r < N,\n",
    "we will need to generate other orthogonal basis for $\\{Av_1, ..., Av_r\\}$\n",
    "\n",
    "## Back to PCA\n",
    "\n",
    "From the above results, we can use SVD to compute the eigenvalues and eigenvectors of the covariance matrix S. Thus,\n",
    "the eigenvectors of S are on the columns of $V^T$, the square root of eigenvalues are on the diagonal of $\\Sigma$ and most importantly,\n",
    "we can obtain transformed features $y^i$ directly from the columns of $U$ (i.e $y^i = u_i * \\sigma_i$, because $u_i$ is a unit vector)"
   ]
  },
  {
   "cell_type": "code",
   "execution_count": 3,
   "outputs": [],
   "source": [
    "from sklearn.datasets import load_breast_cancer\n",
    "import numpy as np\n",
    "import matplotlib.pyplot as plt\n",
    "\n",
    "data = load_breast_cancer()"
   ],
   "metadata": {
    "collapsed": false,
    "pycharm": {
     "name": "#%%\n"
    }
   }
  },
  {
   "cell_type": "code",
   "execution_count": 4,
   "outputs": [],
   "source": [
    "def pca(X, k=2):\n",
    "\n",
    "    u, s, vt = np.linalg.svd(X, full_matrices=False)\n",
    "    xv = u * s\n",
    "\n",
    "    return xv[:, :k]\n",
    "\n",
    "def normalize(X):\n",
    "\n",
    "    n, d = X.shape\n",
    "    x_trans = X.copy()\n",
    "\n",
    "    for j in range(d):\n",
    "\n",
    "        # normalization\n",
    "        x_trans[:, j] = (X[:, j] - X[:, j].mean()) / X[:, j].std()\n",
    "\n",
    "    return x_trans"
   ],
   "metadata": {
    "collapsed": false,
    "pycharm": {
     "name": "#%%\n"
    }
   }
  },
  {
   "cell_type": "code",
   "execution_count": 5,
   "outputs": [],
   "source": [
    "X = data['data']\n",
    "y = data['target']\n",
    "x_trans = normalize(X)\n",
    "x_pca = pca(x_trans)\n"
   ],
   "metadata": {
    "collapsed": false,
    "pycharm": {
     "name": "#%%\n"
    }
   }
  },
  {
   "cell_type": "code",
   "execution_count": 6,
   "outputs": [
    {
     "data": {
      "text/plain": "Text(0, 0.5, 'Xu2')"
     },
     "execution_count": 6,
     "metadata": {},
     "output_type": "execute_result"
    },
    {
     "data": {
      "text/plain": "<Figure size 432x288 with 1 Axes>",
      "image/png": "[encoded data removed]"
     },
     "metadata": {
      "needs_background": "light"
     },
     "output_type": "display_data"
    }
   ],
   "source": [
    "plt.scatter(x_pca[:, 0], x_pca[:, 1])\n",
    "plt.xlabel('Xu1')\n",
    "plt.ylabel('Xu2')"
   ],
   "metadata": {
    "collapsed": false,
    "pycharm": {
     "name": "#%%\n"
    }
   }
  },
  {
   "cell_type": "code",
   "execution_count": null,
   "outputs": [],
   "source": [],
   "metadata": {
    "collapsed": false,
    "pycharm": {
     "name": "#%%\n"
    }
   }
  }
 ],
 "metadata": {
  "kernelspec": {
   "display_name": "Python 3",
   "language": "python",
   "name": "python3"
  },
  "language_info": {
   "codemirror_mode": {
    "name": "ipython",
    "version": 2
   },
   "file_extension": ".py",
   "mimetype": "text/x-python",
   "name": "python",
   "nbconvert_exporter": "python",
   "pygments_lexer": "ipython2",
   "version": "2.7.6"
  }
 },
 "nbformat": 4,
 "nbformat_minor": 0
}
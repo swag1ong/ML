{
 "cells": [
  {
   "cell_type": "markdown",
   "metadata": {
    "collapsed": true,
    "pycharm": {
     "name": "#%% md\n"
    }
   },
   "source": [
    "# PCA\n",
    "\n",
    "*Credit to linear algebra and its application*\n",
    "\n",
    "## Problem formulation\n",
    "\n",
    "Let $X = [x_1, x_2, x_3, ... , x_N]$ be a pxN matrix where samples are the columns of the matrix, each sample contains p\n",
    "features. Let $m = \\frac{1}{N} (x_1 + x_2 + ... + x_N)$ be the sample mean and we center each $x_i$ by $\\hat x_i = x_i - m$\n",
    "\n",
    "Let B be the new pxN matrix consists of centered samples $\\hat x_i$: $B = [\\hat x_1, ..., \\hat x_N]$, then B has zero\n",
    "sample mean.\n",
    "\n",
    "Then $S = \\text{sample covariance matrix} = \\frac{1}{N - 1} (X - M)(X - M)^T = \\frac{1}{N -1} BB^T$ where $M = [m, m, ...]$\n",
    "is a pxN matrix.\n",
    "\n",
    "Notice that, the variance are on the diagonal of S, that is, the total variance of the data is the sum of the variance\n",
    "on the diagonal of S:\n",
    "\n",
    "$\\text{Total variance} = tr(S)$\n",
    "\n",
    "## Goal\n",
    "\n",
    "The goal of PCA is to find an orthogonal pxp matrix $P = [u_1, ...., u_p]$ that determines a projection of X to a lower\n",
    "dimensional space, that is\n",
    "\n",
    "$\\hat x_k = \\begin{pmatrix}\n",
    "\\hat x_k^1\\\\\n",
    ". \\\\\n",
    ".\\\\\n",
    "\\hat x_k^p\n",
    "\\end{pmatrix} = P y_k = [u_1, ...., u_p]\n",
    "\\begin{pmatrix}\n",
    "y_k^1\\\\\n",
    ". \\\\\n",
    ".\\\\\n",
    "y_k^p\n",
    "\\end{pmatrix}$\n",
    "\n",
    "where $\\hat x_k^i$ indicates the ith feature of $\\hat x_k$, and with the property that the new elements $y_k^1, ..., y_k^p$\n",
    "are uncorrelated and are arranged in decreasing variance order.\n",
    "\n",
    "$\\implies y_k = P^{-1}\\hat x_k = P^T \\hat x_k$\n",
    "$\\implies Y Y^T = P^T B B^T P = P^T S P \\implies \\text{The covariance matrix of Y is } P^T S P$\n",
    "\n",
    "Where $Y = [y_1, y_2, ..., y_N]$\n",
    "\n",
    "Since $S$ is symmetric, if $P$ is the orthogonal matrix of the eigen-decomposition of $S = PDP^T$\n",
    "\n",
    "$\\implies Y Y^T = P^TPDP^TP = D$\n",
    "\n",
    "Where $D$ is a diagonal matrix with eigenvalues of $S$ on the diagonal\n",
    "\n",
    "## Principle Component\n",
    "\n",
    "The orthogonal matrix $P$ contains the unit eigenvectors $u_1, ..., u_p$ of the covariance matrix $S$ as columns, $u_1,\n",
    "u_2, ..., u_p$ are called principle components.\n",
    "\n",
    "The first PC is the eigenvector corresponding to the largest eigenvalue of $S$ and so on\n",
    "\n",
    "The first PC $u_1$ determine the new variable $y_i$ in the following way, $u_1$ is the first row of $P^T$, let $c_1, c_2\n",
    "..., c_p$ be the elements of $u_1$, then\n",
    "\n",
    "$y_k = P^T \\hat x_k$ shows that $y_k^1 = c_1 x_k^1 + c_2 x_k^2 + ... + c_p x_k^p$\n",
    "\n",
    "That is, $y_k^i$ is just the dot product of $u_i$ and $x_k$\n",
    "\n",
    "**If you have a Nxp matrix X, with samples as rows, then the ith feature $y^i = Xu_i$**\n",
    "\n",
    "So, the stretching effect(Variance) is largest at $u_1$ with magnitude $\\lambda_1$.\n",
    "\n",
    "## Variance\n",
    "\n",
    "Since $tr(YY^T) = tr(P^TSP) = tr(P^TPS) = tr(S)$, the total variance preserves after the projection from X to Y\n",
    "\n",
    "Thus, the variance of $\\lambda_i$ and $\\frac{\\lambda_i}{tr(S)}$ measures the total variance that is captured by $u_i$\n",
    "\n",
    "## SVD\n"
   ]
  },
  {
   "cell_type": "code",
   "execution_count": null,
   "outputs": [],
   "source": [],
   "metadata": {
    "collapsed": false,
    "pycharm": {
     "name": "#%%\n"
    }
   }
  }
 ],
 "metadata": {
  "kernelspec": {
   "display_name": "Python 3",
   "language": "python",
   "name": "python3"
  },
  "language_info": {
   "codemirror_mode": {
    "name": "ipython",
    "version": 2
   },
   "file_extension": ".py",
   "mimetype": "text/x-python",
   "name": "python",
   "nbconvert_exporter": "python",
   "pygments_lexer": "ipython2",
   "version": "2.7.6"
  }
 },
 "nbformat": 4,
 "nbformat_minor": 0
}
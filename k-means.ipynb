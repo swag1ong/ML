{
 "cells": [
  {
   "cell_type": "markdown",
   "metadata": {
    "collapsed": true,
    "pycharm": {
     "name": "#%% md\n"
    }
   },
   "source": [
    "# K-means\n",
    "\n",
    "**Considering the problem of identifying groups, or clusters, of data points in a multidimensional space.**\n",
    "\n",
    "Suppose we have a data set {$x_1, x_2, x_3,..., x_n$} consisting of $N$ observations of a random $D$-dimension\n",
    "Euclidean variable $x$, our goal is to partition these points into $K$ clusters\n",
    "\n",
    "A cluster k contains a cluster center $\\mu_k$($D$-dimension). Our goal is then to find an assignment of data points to clusters,\n",
    "as well as a set of vectors {$\\mu_k$}, such that the sum of the squares of the distances of each data point to its\n",
    "closest vector $\\mu_k$, is a minimum.\n",
    "\n",
    "Also, for each points $x_n$, we have a binary indicator variable $r_{nk} \\in (0, 1)$ indicates whether the point\n",
    "$x_{in}$ is assigned to cluster k, this implies that if $x_n$ is in k, then $r_{nk} = 1$ and $r_{nj} = 0$\n",
    "$\\forall j \\in K, j \\neq k$ This is known as the 1-of-K coding scheme.\n",
    "\n",
    "Now we have a loss function(distortion measure in this case):\n",
    "\n",
    "$J = \\sum_{n=1}^{N}\\sum_{k=1}^{K} r_{nk} ||x_n - \\mu_k||^2$\n",
    "\n",
    "which represents the sum of the squares of the distances of each data point to its assigned cluster point $\\mu_k$\n",
    "\n",
    "**Ultimate goal**:\n",
    "\n",
    "Find {$r_{nk}$}, {$\\mu_k$} that minimize J\n",
    "\n",
    "\n",
    "### Algorithm\n",
    "\n",
    "1. We first initialize $\\mu_k$\n",
    "2. we minimize J with respect to $r_{nk}$ fixing $\\mu_k$ (E step)\n",
    "3. we minimize J with respect to $\\mu_k$ fixing $r_{nk}$ (M step)\n",
    "\n",
    "repeat 2, 3 until convergence\n",
    "\n",
    "\n",
    "**For phase 2**:\n",
    "\n",
    "  \\begin{equation}\n",
    "    r_{nk}=\n",
    "    \\begin{cases}\n",
    "      1, & k = argmin_j ||x_n - \\mu_j||^2 \\\\\n",
    "      0, & \\text{otherwise}\n",
    "    \\end{cases}\n",
    "  \\end{equation}\n",
    "\n",
    "**For phase 3**:\n",
    "\n",
    "since J is convex with fixed $r_{nk}$, by taking the derivative of J and set it to 0, we have:\n",
    "\n",
    "$2 \\sum_{n=1}^{N}r_{nk}(x_n - \\mu_n) = 0$\n",
    "\n",
    "by solving above equation, we have:\n",
    "\n",
    "$\\mu_k = \\frac{\\sum_n r_{nk}x_n}{\\sum_n r_{nk}}$\n",
    "\n",
    "*and so this result has a simple interpretation, namely set $\\mu_k$ equal to the\n",
    "mean of all of the data points $x_n$ assigned to cluster k*\n",
    "\n",
    "#### Convergence\n",
    "\n",
    "The algorithm converges simply after:\n",
    "1. max iteration reached\n",
    "2. no change in the assignment of cluster points"
   ]
  },
  {
   "cell_type": "code",
   "execution_count": 1,
   "outputs": [],
   "source": [
    "import numpy as np\n",
    "\n",
    "class KMeans:\n",
    "\n",
    "    def __init__(self, k=2, max_iteration=10, init_method='random'):\n",
    "\n",
    "        self.k = k\n",
    "        self.max_iteration = max_iteration\n",
    "        self.init_method = init_method\n",
    "\n",
    "    def fit_transform(self, x: np.array):\n",
    "\n",
    "        n, d = x.shape\n",
    "        prev_mu = self._init_mu(x)\n",
    "        curr_mu = prev_mu.copy()\n",
    "        r_matrix = np.zeros((n, self.k))\n",
    "        curr_iter = 0\n",
    "\n",
    "        while curr_iter <= self.max_iteration:\n",
    "\n",
    "            # step one, map each instance to cluster center muk\n",
    "            for sample in range(n):\n",
    "\n",
    "                distance = []\n",
    "\n",
    "                for j in range(self.k):\n",
    "\n",
    "                    distance.append(np.linalg.norm(x[sample] - prev_mu[j]))\n",
    "\n",
    "                mu_assigned = np.argmin(distance)\n",
    "                r_matrix[sample][mu_assigned] = 1\n",
    "\n",
    "            # step two calculate new mu_k\n",
    "\n",
    "            for j in range(self.k):\n",
    "\n",
    "                total_points = np.sum(r_matrix[:j])\n",
    "                cluster_total = np.zeros((1, d))\n",
    "\n",
    "                for sample in range(n):\n",
    "\n",
    "                    cluster_total = cluster_total + r_matrix[sample][j] * x[sample]\n",
    "\n",
    "                if total_points != 0:\n",
    "                    curr_mu[j] = cluster_total / total_points\n",
    "\n",
    "            if (prev_mu == curr_mu).all():\n",
    "\n",
    "                break\n",
    "\n",
    "            curr_iter += 1\n",
    "\n",
    "        print(f'finished k-means algorithm, with iteration {curr_iter}')\n",
    "\n",
    "        return r_matrix, curr_mu\n",
    "\n",
    "    def _init_mu(self, x):\n",
    "\n",
    "        if self.init_method == 'random':\n",
    "            col_max = x.max(axis=0)\n",
    "            col_min = x.min(axis=0)\n",
    "\n",
    "            return (col_max - col_min) * np.random.random_sample((self.k, x.shape[1])) + col_min\n",
    "\n",
    "        elif self.init_method == 'random_points':\n",
    "\n",
    "            random_int = np.random.randint(0, x.shape[0], size=self.k)\n",
    "\n",
    "            return x[random_int]\n",
    "\n",
    "\n",
    "\n"
   ],
   "metadata": {
    "collapsed": false,
    "pycharm": {
     "name": "#%%\n"
    }
   }
  },
  {
   "cell_type": "code",
   "execution_count": 2,
   "outputs": [
    {
     "name": "stdout",
     "output_type": "stream",
     "text": [
      "finished k-means algorithm, with iteration 11\n"
     ]
    },
    {
     "data": {
      "text/plain": "(array([[0., 1.],\n        [0., 1.],\n        [1., 0.],\n        [1., 0.]]),\n array([[6.22522539, 3.72560899],\n        [1.        , 2.        ]]))"
     },
     "execution_count": 2,
     "metadata": {},
     "output_type": "execute_result"
    }
   ],
   "source": [
    "x = np.array([[1, 2], [0, 0], [8, 8], [10, 10]])\n",
    "kmeans = KMeans()\n",
    "kmeans.fit_transform(x)"
   ],
   "metadata": {
    "collapsed": false,
    "pycharm": {
     "name": "#%%\n"
    }
   }
  }
 ],
 "metadata": {
  "kernelspec": {
   "display_name": "Python 3",
   "language": "python",
   "name": "python3"
  },
  "language_info": {
   "codemirror_mode": {
    "name": "ipython",
    "version": 2
   },
   "file_extension": ".py",
   "mimetype": "text/x-python",
   "name": "python",
   "nbconvert_exporter": "python",
   "pygments_lexer": "ipython2",
   "version": "2.7.6"
  }
 },
 "nbformat": 4,
 "nbformat_minor": 0
}
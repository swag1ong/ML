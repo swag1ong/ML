{
 "cells": [
  {
   "cell_type": "markdown",
   "metadata": {
    "collapsed": true,
    "pycharm": {
     "name": "#%% md\n"
    }
   },
   "source": [
    "# Optimizers"
   ]
  },
  {
   "cell_type": "code",
   "execution_count": 4,
   "outputs": [],
   "source": [
    "class SGD:\n",
    "\n",
    "    def __init__(self, lr, model_vars):\n",
    "\n",
    "        self.model_vars = model_vars\n",
    "        self.lr = lr\n",
    "\n",
    "    def __call__(self, grad):\n",
    "\n",
    "        for i, v in enumerate(self.model_vars):\n",
    "\n",
    "            self.model_vars[i] = v - self.lr * grad[i]\n",
    "\n",
    "        return self.model_vars\n",
    "\n",
    "class Momentum:\n",
    "\n",
    "    def __init__(self, lr, model_vars, alpha=0.9):\n",
    "\n",
    "        self.lr = lr\n",
    "        self.model_vars = model_vars\n",
    "        self.alpha = alpha\n",
    "        self.v = 0\n",
    "\n",
    "    def __call__(self, grad):\n",
    "\n",
    "        for i, v in enumerate(self.model_vars):\n",
    "\n",
    "            self.v = self.v * self.alpha - self.lr * grad[i]\n",
    "            self.model_vars[i] = self.model_vars[i] + self.v\n",
    "\n",
    "        return self.model_vars\n",
    "\n",
    "class Adam:\n",
    "\n",
    "    def __init__(self):"
   ],
   "metadata": {
    "collapsed": false,
    "pycharm": {
     "name": "#%%\n"
    }
   }
  },
  {
   "cell_type": "code",
   "execution_count": 5,
   "outputs": [
    {
     "ename": "TypeError",
     "evalue": "__init__() missing 2 required positional arguments: 'lr' and 'model_vars'",
     "output_type": "error",
     "traceback": [
      "\u001B[1;31m---------------------------------------------------------------------------\u001B[0m",
      "\u001B[1;31mTypeError\u001B[0m                                 Traceback (most recent call last)",
      "\u001B[1;32m<ipython-input-5-370b494f6edc>\u001B[0m in \u001B[0;36m<module>\u001B[1;34m\u001B[0m\n\u001B[1;32m----> 1\u001B[1;33m \u001B[0mMomentum\u001B[0m\u001B[1;33m(\u001B[0m\u001B[1;33m)\u001B[0m\u001B[1;33m\u001B[0m\u001B[1;33m\u001B[0m\u001B[0m\n\u001B[0m\u001B[0;32m      2\u001B[0m \u001B[1;33m\u001B[0m\u001B[0m\n",
      "\u001B[1;31mTypeError\u001B[0m: __init__() missing 2 required positional arguments: 'lr' and 'model_vars'"
     ]
    }
   ],
   "source": [],
   "metadata": {
    "collapsed": false,
    "pycharm": {
     "name": "#%%\n"
    }
   }
  },
  {
   "cell_type": "code",
   "execution_count": null,
   "outputs": [],
   "source": [],
   "metadata": {
    "collapsed": false,
    "pycharm": {
     "name": "#%%\n"
    }
   }
  }
 ],
 "metadata": {
  "kernelspec": {
   "display_name": "Python 3",
   "language": "python",
   "name": "python3"
  },
  "language_info": {
   "codemirror_mode": {
    "name": "ipython",
    "version": 2
   },
   "file_extension": ".py",
   "mimetype": "text/x-python",
   "name": "python",
   "nbconvert_exporter": "python",
   "pygments_lexer": "ipython2",
   "version": "2.7.6"
  }
 },
 "nbformat": 4,
 "nbformat_minor": 0
}